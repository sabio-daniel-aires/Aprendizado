{
  "nbformat": 4,
  "nbformat_minor": 0,
  "metadata": {
    "colab": {
      "name": "Cópia de Aprendendo a usar o Collab Google.ipynb",
      "provenance": [],
      "authorship_tag": "ABX9TyMF4N8jdfnc/jyOGxTdRDoD",
      "include_colab_link": true
    },
    "kernelspec": {
      "name": "python3",
      "display_name": "Python 3"
    },
    "language_info": {
      "name": "python"
    }
  },
  "cells": [
    {
      "cell_type": "markdown",
      "metadata": {
        "id": "view-in-github",
        "colab_type": "text"
      },
      "source": [
        "<a href=\"https://colab.research.google.com/github/sabio-daniel-aires/Aprendizado/blob/main/C%C3%B3pia_de_Aprendendo_a_usar_o_Collab_Google.ipynb\" target=\"_parent\"><img src=\"https://colab.research.google.com/assets/colab-badge.svg\" alt=\"Open In Colab\"/></a>"
      ]
    },
    {
      "cell_type": "code",
      "execution_count": null,
      "metadata": {
        "id": "VEVxxFf4RNMS"
      },
      "outputs": [],
      "source": [
        ""
      ]
    }
  ]
}