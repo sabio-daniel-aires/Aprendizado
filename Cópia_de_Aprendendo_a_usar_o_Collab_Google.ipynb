{
  "nbformat": 4,
  "nbformat_minor": 0,
  "metadata": {
    "colab": {
      "name": "Cópia de Aprendendo a usar o Collab Google.ipynb",
      "provenance": [],
      "collapsed_sections": [],
      "authorship_tag": "ABX9TyMF+lmTq2e7YrkFB1ktgf3U",
      "include_colab_link": true
    },
    "kernelspec": {
      "name": "python3",
      "display_name": "Python 3"
    },
    "language_info": {
      "name": "python"
    }
  },
  "cells": [
    {
      "cell_type": "markdown",
      "metadata": {
        "id": "view-in-github",
        "colab_type": "text"
      },
      "source": [
        "<a href=\"https://colab.research.google.com/github/sabio-daniel-aires/Aprendizado/blob/main/C%C3%B3pia_de_Aprendendo_a_usar_o_Collab_Google.ipynb\" target=\"_parent\"><img src=\"https://colab.research.google.com/assets/colab-badge.svg\" alt=\"Open In Colab\"/></a>"
      ]
    },
    {
      "cell_type": "markdown",
      "source": [
        "O que é o Collab?"
      ],
      "metadata": {
        "id": "79XkQ3DRRtIB"
      }
    },
    {
      "cell_type": "code",
      "execution_count": 3,
      "metadata": {
        "id": "VEVxxFf4RNMS",
        "colab": {
          "base_uri": "https://localhost:8080/"
        },
        "outputId": "aac2732e-278c-4f05-cee6-0925385b053e"
      },
      "outputs": [
        {
          "output_type": "stream",
          "name": "stdout",
          "text": [
            "software para executar python\n"
          ]
        }
      ],
      "source": [
        "colab = \"software para executar python\"\n",
        "print(colab)"
      ]
    }
  ]
}